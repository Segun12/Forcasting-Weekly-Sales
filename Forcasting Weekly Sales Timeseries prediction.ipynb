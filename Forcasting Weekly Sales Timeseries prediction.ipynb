{
 "cells": [
  {
   "cell_type": "markdown",
   "metadata": {},
   "source": [
    "## Problem Statement: The manager of a shop asked us to build a predictive model to forecast the number of sales for next week; The model must be run every Sunday and the result of the prediction must be reported on every Monday morning. Then, the manager can make a decision about the number of orders for the week. The manager then provides us the data of sales 811 products for 52 weeks"
   ]
  },
  {
   "cell_type": "markdown",
   "metadata": {},
   "source": [
    "\n",
    "A time series is a sequence of observations taken sequentially in time. Time series forecasting involves taking models then fit them on historical data then using them to predict future observations. Therefore, for example, min(s), day(s), month(s), ago of the measurement is used as an input to predict the future\n",
    "\n",
    "The steps that are considered to shift the data backward in the time(sequence), called lag times or lags. Therefore, a time series problem can be transformed into a supervised ML by adding lags of measurements as inputs of the supervised ML."
   ]
  },
  {
   "cell_type": "code",
   "execution_count": 153,
   "metadata": {},
   "outputs": [],
   "source": [
    "import numpy as np\n",
    "import pandas as pd,gc\n",
    "from sklearn import base\n",
    "\n",
    "#Advance-style plotting\n",
    "import seaborn as sns\n",
    "color =sns.color_palette()\n",
    "sns.set_style('darkgrid')\n",
    "\n",
    "from matplotlib import pyplot as plt\n",
    "#default data without encoding gave best score\n",
    "pd.set_option('display.max_columns', None)\n",
    "pd.set_option('display.max_rows', None)\n",
    "from sklearn.pipeline import Pipeline\n",
    "from sklearn.metrics import mean_squared_log_error\n",
    "from sklearn.ensemble import RandomForestRegressor\n",
    "from lightgbm import LGBMRegressor\n",
    "import warnings\n",
    "warnings.filterwarnings(action='once')"
   ]
  },
  {
   "cell_type": "markdown",
   "metadata": {},
   "source": [
    "# DATA PREPARATION"
   ]
  },
  {
   "cell_type": "code",
   "execution_count": 154,
   "metadata": {},
   "outputs": [
    {
     "data": {
      "text/html": [
       "<div>\n",
       "<style scoped>\n",
       "    .dataframe tbody tr th:only-of-type {\n",
       "        vertical-align: middle;\n",
       "    }\n",
       "\n",
       "    .dataframe tbody tr th {\n",
       "        vertical-align: top;\n",
       "    }\n",
       "\n",
       "    .dataframe thead th {\n",
       "        text-align: right;\n",
       "    }\n",
       "</style>\n",
       "<table border=\"1\" class=\"dataframe\">\n",
       "  <thead>\n",
       "    <tr style=\"text-align: right;\">\n",
       "      <th></th>\n",
       "      <th>Product_Code</th>\n",
       "      <th>W0</th>\n",
       "      <th>W1</th>\n",
       "      <th>W2</th>\n",
       "      <th>W3</th>\n",
       "      <th>W4</th>\n",
       "      <th>W5</th>\n",
       "      <th>W6</th>\n",
       "      <th>W7</th>\n",
       "      <th>W8</th>\n",
       "      <th>W9</th>\n",
       "      <th>W10</th>\n",
       "      <th>W11</th>\n",
       "      <th>W12</th>\n",
       "      <th>W13</th>\n",
       "      <th>W14</th>\n",
       "      <th>W15</th>\n",
       "      <th>W16</th>\n",
       "      <th>W17</th>\n",
       "      <th>W18</th>\n",
       "      <th>W19</th>\n",
       "      <th>W20</th>\n",
       "      <th>W21</th>\n",
       "      <th>W22</th>\n",
       "      <th>W23</th>\n",
       "      <th>W24</th>\n",
       "      <th>W25</th>\n",
       "      <th>W26</th>\n",
       "      <th>W27</th>\n",
       "      <th>W28</th>\n",
       "      <th>W29</th>\n",
       "      <th>W30</th>\n",
       "      <th>W31</th>\n",
       "      <th>W32</th>\n",
       "      <th>W33</th>\n",
       "      <th>W34</th>\n",
       "      <th>W35</th>\n",
       "      <th>W36</th>\n",
       "      <th>W37</th>\n",
       "      <th>W38</th>\n",
       "      <th>W39</th>\n",
       "      <th>W40</th>\n",
       "      <th>W41</th>\n",
       "      <th>W42</th>\n",
       "      <th>W43</th>\n",
       "      <th>W44</th>\n",
       "      <th>W45</th>\n",
       "      <th>W46</th>\n",
       "      <th>W47</th>\n",
       "      <th>W48</th>\n",
       "      <th>W49</th>\n",
       "      <th>W50</th>\n",
       "      <th>W51</th>\n",
       "    </tr>\n",
       "  </thead>\n",
       "  <tbody>\n",
       "    <tr>\n",
       "      <td>0</td>\n",
       "      <td>P1</td>\n",
       "      <td>11</td>\n",
       "      <td>12</td>\n",
       "      <td>10</td>\n",
       "      <td>8</td>\n",
       "      <td>13</td>\n",
       "      <td>12</td>\n",
       "      <td>14</td>\n",
       "      <td>21</td>\n",
       "      <td>6</td>\n",
       "      <td>14</td>\n",
       "      <td>11</td>\n",
       "      <td>14</td>\n",
       "      <td>16</td>\n",
       "      <td>9</td>\n",
       "      <td>9</td>\n",
       "      <td>9</td>\n",
       "      <td>14</td>\n",
       "      <td>9</td>\n",
       "      <td>3</td>\n",
       "      <td>12</td>\n",
       "      <td>5</td>\n",
       "      <td>11</td>\n",
       "      <td>7</td>\n",
       "      <td>12</td>\n",
       "      <td>5</td>\n",
       "      <td>9</td>\n",
       "      <td>7</td>\n",
       "      <td>10</td>\n",
       "      <td>5</td>\n",
       "      <td>11</td>\n",
       "      <td>7</td>\n",
       "      <td>10</td>\n",
       "      <td>12</td>\n",
       "      <td>6</td>\n",
       "      <td>5</td>\n",
       "      <td>14</td>\n",
       "      <td>10</td>\n",
       "      <td>9</td>\n",
       "      <td>12</td>\n",
       "      <td>17</td>\n",
       "      <td>7</td>\n",
       "      <td>11</td>\n",
       "      <td>4</td>\n",
       "      <td>7</td>\n",
       "      <td>8</td>\n",
       "      <td>10</td>\n",
       "      <td>12</td>\n",
       "      <td>3</td>\n",
       "      <td>7</td>\n",
       "      <td>6</td>\n",
       "      <td>5</td>\n",
       "      <td>10</td>\n",
       "    </tr>\n",
       "    <tr>\n",
       "      <td>1</td>\n",
       "      <td>P2</td>\n",
       "      <td>7</td>\n",
       "      <td>6</td>\n",
       "      <td>3</td>\n",
       "      <td>2</td>\n",
       "      <td>7</td>\n",
       "      <td>1</td>\n",
       "      <td>6</td>\n",
       "      <td>3</td>\n",
       "      <td>3</td>\n",
       "      <td>3</td>\n",
       "      <td>2</td>\n",
       "      <td>2</td>\n",
       "      <td>6</td>\n",
       "      <td>2</td>\n",
       "      <td>0</td>\n",
       "      <td>6</td>\n",
       "      <td>2</td>\n",
       "      <td>7</td>\n",
       "      <td>7</td>\n",
       "      <td>9</td>\n",
       "      <td>4</td>\n",
       "      <td>7</td>\n",
       "      <td>2</td>\n",
       "      <td>4</td>\n",
       "      <td>5</td>\n",
       "      <td>3</td>\n",
       "      <td>5</td>\n",
       "      <td>8</td>\n",
       "      <td>5</td>\n",
       "      <td>5</td>\n",
       "      <td>3</td>\n",
       "      <td>1</td>\n",
       "      <td>3</td>\n",
       "      <td>2</td>\n",
       "      <td>3</td>\n",
       "      <td>10</td>\n",
       "      <td>5</td>\n",
       "      <td>2</td>\n",
       "      <td>7</td>\n",
       "      <td>3</td>\n",
       "      <td>2</td>\n",
       "      <td>5</td>\n",
       "      <td>2</td>\n",
       "      <td>4</td>\n",
       "      <td>5</td>\n",
       "      <td>1</td>\n",
       "      <td>1</td>\n",
       "      <td>4</td>\n",
       "      <td>5</td>\n",
       "      <td>1</td>\n",
       "      <td>6</td>\n",
       "      <td>0</td>\n",
       "    </tr>\n",
       "  </tbody>\n",
       "</table>\n",
       "</div>"
      ],
      "text/plain": [
       "  Product_Code  W0  W1  W2  W3  W4  W5  W6  W7  W8  W9  W10  W11  W12  W13  \\\n",
       "0           P1  11  12  10   8  13  12  14  21   6  14   11   14   16    9   \n",
       "1           P2   7   6   3   2   7   1   6   3   3   3    2    2    6    2   \n",
       "\n",
       "   W14  W15  W16  W17  W18  W19  W20  W21  W22  W23  W24  W25  W26  W27  W28  \\\n",
       "0    9    9   14    9    3   12    5   11    7   12    5    9    7   10    5   \n",
       "1    0    6    2    7    7    9    4    7    2    4    5    3    5    8    5   \n",
       "\n",
       "   W29  W30  W31  W32  W33  W34  W35  W36  W37  W38  W39  W40  W41  W42  W43  \\\n",
       "0   11    7   10   12    6    5   14   10    9   12   17    7   11    4    7   \n",
       "1    5    3    1    3    2    3   10    5    2    7    3    2    5    2    4   \n",
       "\n",
       "   W44  W45  W46  W47  W48  W49  W50  W51  \n",
       "0    8   10   12    3    7    6    5   10  \n",
       "1    5    1    1    4    5    1    6    0  "
      ]
     },
     "execution_count": 154,
     "metadata": {},
     "output_type": "execute_result"
    }
   ],
   "source": [
    "products =pd.read_csv('Sales_Transactions_Dataset_Weekly.csv')\n",
    "products_x = products.filter(regex=r'Product|W');products_x.head(2)"
   ]
  },
  {
   "cell_type": "code",
   "execution_count": 155,
   "metadata": {},
   "outputs": [
    {
     "data": {
      "text/plain": [
       "(811, 53)"
      ]
     },
     "execution_count": 155,
     "metadata": {},
     "output_type": "execute_result"
    }
   ],
   "source": [
    "products_x.shape"
   ]
  },
  {
   "cell_type": "markdown",
   "metadata": {},
   "source": [
    "# The data given has 811  product code and 52 weeks columns for sales. First, Lets create a new data frame by changing the data state/melting on the weeks. Thus, the new data frame has three columns, product code, week and sales. Besides, the “W” & “P” are dropped from the week and the product respectively. So, let’s take look at the head and the tail of the new data frame"
   ]
  },
  {
   "cell_type": "markdown",
   "metadata": {},
   "source": [
    "Many data scientists might create a single model for each product to forecast the number of sales. And while this can work well, we may have problems due to having only 52 data points for each model, which is really low! Although this approach is possible, it might not the best solution. Besides, if there are interactions among the number of sales of two or more products, we might miss their interactions by building a single model for each product. Therefore, at this post, we will investigate how we can build a multiple time series forecasting models."
   ]
  },
  {
   "cell_type": "markdown",
   "metadata": {},
   "source": [
    "## Basic Feature Engineering"
   ]
  },
  {
   "cell_type": "markdown",
   "metadata": {},
   "source": [
    "Let’s create two features which usually are used for time series. One step back in time, 1-lag(shift =1) and the difference between the number of purchase a week ago(W 1) and its previous week, means, two weeks ago (W2). After that, since the lag and diff result in having null in the dataset, see Fig. 4, we drop them. Therefore, when we look at the head of the data frame, it starts from week = 2."
   ]
  },
  {
   "cell_type": "code",
   "execution_count": 156,
   "metadata": {},
   "outputs": [],
   "source": [
    "products_x = products_x.melt(id_vars='Product_Code', var_name='Week', value_name='Sales')"
   ]
  },
  {
   "cell_type": "code",
   "execution_count": 157,
   "metadata": {},
   "outputs": [
    {
     "data": {
      "text/html": [
       "<div>\n",
       "<style scoped>\n",
       "    .dataframe tbody tr th:only-of-type {\n",
       "        vertical-align: middle;\n",
       "    }\n",
       "\n",
       "    .dataframe tbody tr th {\n",
       "        vertical-align: top;\n",
       "    }\n",
       "\n",
       "    .dataframe thead th {\n",
       "        text-align: right;\n",
       "    }\n",
       "</style>\n",
       "<table border=\"1\" class=\"dataframe\">\n",
       "  <thead>\n",
       "    <tr style=\"text-align: right;\">\n",
       "      <th></th>\n",
       "      <th>Product_Code</th>\n",
       "      <th>Week</th>\n",
       "      <th>Sales</th>\n",
       "    </tr>\n",
       "  </thead>\n",
       "  <tbody>\n",
       "    <tr>\n",
       "      <td>0</td>\n",
       "      <td>P1</td>\n",
       "      <td>W0</td>\n",
       "      <td>11</td>\n",
       "    </tr>\n",
       "    <tr>\n",
       "      <td>1</td>\n",
       "      <td>P2</td>\n",
       "      <td>W0</td>\n",
       "      <td>7</td>\n",
       "    </tr>\n",
       "    <tr>\n",
       "      <td>2</td>\n",
       "      <td>P3</td>\n",
       "      <td>W0</td>\n",
       "      <td>7</td>\n",
       "    </tr>\n",
       "    <tr>\n",
       "      <td>3</td>\n",
       "      <td>P4</td>\n",
       "      <td>W0</td>\n",
       "      <td>12</td>\n",
       "    </tr>\n",
       "    <tr>\n",
       "      <td>4</td>\n",
       "      <td>P5</td>\n",
       "      <td>W0</td>\n",
       "      <td>8</td>\n",
       "    </tr>\n",
       "  </tbody>\n",
       "</table>\n",
       "</div>"
      ],
      "text/plain": [
       "  Product_Code Week  Sales\n",
       "0           P1   W0     11\n",
       "1           P2   W0      7\n",
       "2           P3   W0      7\n",
       "3           P4   W0     12\n",
       "4           P5   W0      8"
      ]
     },
     "execution_count": 157,
     "metadata": {},
     "output_type": "execute_result"
    }
   ],
   "source": [
    "products_x.head()"
   ]
  },
  {
   "cell_type": "code",
   "execution_count": 160,
   "metadata": {},
   "outputs": [
    {
     "data": {
      "text/plain": [
       "(42172, 3)"
      ]
     },
     "execution_count": 160,
     "metadata": {},
     "output_type": "execute_result"
    }
   ],
   "source": [
    "products_x.shape"
   ]
  },
  {
   "cell_type": "markdown",
   "metadata": {},
   "source": [
    "### Since we have melted out data down to weeks; now we have 3 columns 42172 observations..  lets do some analysis..."
   ]
  },
  {
   "cell_type": "markdown",
   "metadata": {},
   "source": [
    "## UNIVARIATE ANALYSIS  1"
   ]
  },
  {
   "cell_type": "code",
   "execution_count": 161,
   "metadata": {},
   "outputs": [
    {
     "data": {
      "text/plain": [
       "<matplotlib.axes._subplots.AxesSubplot at 0x195cbd96288>"
      ]
     },
     "execution_count": 161,
     "metadata": {},
     "output_type": "execute_result"
    },
    {
     "data": {
      "image/png": "[encoded data removed]",
      "text/plain": [
       "<Figure size 842.4x595.44 with 1 Axes>"
      ]
     },
     "metadata": {},
     "output_type": "display_data"
    }
   ],
   "source": [
    "sns.set(rc={'figure.figsize':(11.7,8.27)})\n",
    "sns.distplot(products_x['Sales'],kde = False)"
   ]
  },
  {
   "cell_type": "markdown",
   "metadata": {},
   "source": [
    "Sales distribution. There are many product sales items with very low sales."
   ]
  },
  {
   "cell_type": "code",
   "execution_count": 162,
   "metadata": {},
   "outputs": [],
   "source": [
    "products_x['Product_Code'] =products_x.Product_Code.replace('[P]', '', regex =True)"
   ]
  },
  {
   "cell_type": "code",
   "execution_count": 163,
   "metadata": {},
   "outputs": [],
   "source": [
    "products_x['Week'] =products_x['Week'] .replace({'W0':0, 'W1':1, 'W2':2, 'W3':3, 'W4':4, 'W5':5, 'W6':6, 'W7':7, 'W8':8, 'W9':9, 'W10':10,\n",
    "       'W11':11, 'W12':12, 'W13':13, 'W14':14, 'W15':15, 'W16':16, 'W17':17, 'W18':18, 'W19':19,\n",
    "       'W20':20, 'W21':21, 'W22':22, 'W23':23, 'W24':24, 'W25':25, 'W26':26, 'W27':27, 'W28':28,\n",
    "      'W29':29, 'W30':30, 'W31':31, 'W32':32, 'W33':33, 'W34':34, 'W35':35, 'W36':36, 'W37':37,\n",
    "       'W38':38, 'W39':39, 'W40':40, 'W41':41, 'W42':42, 'W43':43, 'W44':44, 'W45':45, 'W46':46,\n",
    "       'W47':47, 'W48':48, 'W49':49 ,'W50':50, 'W51':51})"
   ]
  },
  {
   "cell_type": "code",
   "execution_count": 164,
   "metadata": {},
   "outputs": [
    {
     "data": {
      "text/plain": [
       "Product_Code    819\n",
       "Week             51\n",
       "Sales             1\n",
       "Name: 42171, dtype: object"
      ]
     },
     "execution_count": 164,
     "metadata": {},
     "output_type": "execute_result"
    }
   ],
   "source": [
    "products_x.iloc[42171]"
   ]
  },
  {
   "cell_type": "code",
   "execution_count": 165,
   "metadata": {},
   "outputs": [],
   "source": [
    "x=42172 \n",
    "y=85965\n",
    "products_x.loc[x:y]\n",
    "products_x.loc[x:y].index\n",
    "products_x.drop(products_x.loc[x:y].index, inplace=True)"
   ]
  },
  {
   "cell_type": "code",
   "execution_count": 166,
   "metadata": {},
   "outputs": [
    {
     "data": {
      "text/plain": [
       "Product_Code    object\n",
       "Week             int64\n",
       "Sales            int64\n",
       "dtype: object"
      ]
     },
     "execution_count": 166,
     "metadata": {},
     "output_type": "execute_result"
    }
   ],
   "source": [
    "products_x.dtypes"
   ]
  },
  {
   "cell_type": "code",
   "execution_count": 167,
   "metadata": {},
   "outputs": [],
   "source": [
    "products_x['Sales']=products_x['Sales'].astype(int)\n",
    "products_x['Product_Code']=products_x['Product_Code'].astype(int)"
   ]
  },
  {
   "cell_type": "code",
   "execution_count": 169,
   "metadata": {},
   "outputs": [
    {
     "data": {
      "text/plain": [
       "Product_Code    0\n",
       "Week            0\n",
       "Sales           0\n",
       "dtype: int64"
      ]
     },
     "execution_count": 169,
     "metadata": {},
     "output_type": "execute_result"
    }
   ],
   "source": [
    "products_x.isnull().sum()"
   ]
  },
  {
   "cell_type": "code",
   "execution_count": 170,
   "metadata": {},
   "outputs": [
    {
     "data": {
      "text/html": [
       "<div>\n",
       "<style scoped>\n",
       "    .dataframe tbody tr th:only-of-type {\n",
       "        vertical-align: middle;\n",
       "    }\n",
       "\n",
       "    .dataframe tbody tr th {\n",
       "        vertical-align: top;\n",
       "    }\n",
       "\n",
       "    .dataframe thead th {\n",
       "        text-align: right;\n",
       "    }\n",
       "</style>\n",
       "<table border=\"1\" class=\"dataframe\">\n",
       "  <thead>\n",
       "    <tr style=\"text-align: right;\">\n",
       "      <th></th>\n",
       "      <th>Product_Code</th>\n",
       "      <th>Week</th>\n",
       "      <th>Sales</th>\n",
       "    </tr>\n",
       "  </thead>\n",
       "  <tbody>\n",
       "    <tr>\n",
       "      <td>0</td>\n",
       "      <td>1</td>\n",
       "      <td>0</td>\n",
       "      <td>11</td>\n",
       "    </tr>\n",
       "    <tr>\n",
       "      <td>1</td>\n",
       "      <td>2</td>\n",
       "      <td>0</td>\n",
       "      <td>7</td>\n",
       "    </tr>\n",
       "    <tr>\n",
       "      <td>2</td>\n",
       "      <td>3</td>\n",
       "      <td>0</td>\n",
       "      <td>7</td>\n",
       "    </tr>\n",
       "    <tr>\n",
       "      <td>3</td>\n",
       "      <td>4</td>\n",
       "      <td>0</td>\n",
       "      <td>12</td>\n",
       "    </tr>\n",
       "    <tr>\n",
       "      <td>4</td>\n",
       "      <td>5</td>\n",
       "      <td>0</td>\n",
       "      <td>8</td>\n",
       "    </tr>\n",
       "  </tbody>\n",
       "</table>\n",
       "</div>"
      ],
      "text/plain": [
       "   Product_Code  Week  Sales\n",
       "0             1     0     11\n",
       "1             2     0      7\n",
       "2             3     0      7\n",
       "3             4     0     12\n",
       "4             5     0      8"
      ]
     },
     "execution_count": 170,
     "metadata": {},
     "output_type": "execute_result"
    }
   ],
   "source": [
    "products_x.head()"
   ]
  },
  {
   "cell_type": "code",
   "execution_count": 171,
   "metadata": {},
   "outputs": [],
   "source": [
    "class ToSupervised(base.BaseEstimator,base.TransformerMixin):\n",
    "    \n",
    "    def __init__(self,col,groupCol,numLags,dropna=False):\n",
    "        \n",
    "        self.col = col\n",
    "        self.groupCol = groupCol\n",
    "        self.numLags = numLags\n",
    "        self.dropna = dropna\n",
    "        \n",
    "    def fit(self,X,y=None):\n",
    "        self.X = X\n",
    "        return self\n",
    "    \n",
    "    def transform(self,X):\n",
    "        tmp = self.X.copy()\n",
    "        for i in range(1,self.numLags+1):\n",
    "            tmp[str(i)+'_Week_Ago'+\"_\"+self.col] = tmp.groupby([self.groupCol])[self.col].shift(i) \n",
    "            \n",
    "        if self.dropna:\n",
    "            tmp = tmp.dropna()\n",
    "            tmp = tmp.reset_index(drop=True)\n",
    "            \n",
    "        \n",
    "            \n",
    "        return tmp"
   ]
  },
  {
   "cell_type": "code",
   "execution_count": 172,
   "metadata": {},
   "outputs": [],
   "source": [
    "\n",
    "class ToSupervisedDiff(base.BaseEstimator,base.TransformerMixin):\n",
    "    \n",
    "    def __init__(self,col,groupCol,numLags,dropna=False):\n",
    "        \n",
    "        self.col = col\n",
    "        self.groupCol = groupCol\n",
    "        self.numLags = numLags\n",
    "        self.dropna = dropna\n",
    "        \n",
    "    def fit(self,X,y=None):\n",
    "        self.X = X\n",
    "        return self\n",
    "    \n",
    "    def transform(self,X):\n",
    "        tmp = self.X.copy()\n",
    "        for i in range(1,self.numLags+1):\n",
    "            tmp[str(i)+'_Week_Ago_Diff'+\"_\"+self.col] = tmp.groupby([self.groupCol])[self.col].diff(i) \n",
    "            \n",
    "        if self.dropna:\n",
    "            tmp = tmp.dropna()\n",
    "            tmp = tmp.reset_index(drop=True)\n",
    "            \n",
    "        return tmp"
   ]
  },
  {
   "cell_type": "markdown",
   "metadata": {},
   "source": [
    "Now, the data has a proper shape for using it at supervised ML."
   ]
  },
  {
   "cell_type": "markdown",
   "metadata": {},
   "source": [
    "# TIME SERIES KFOLD"
   ]
  },
  {
   "cell_type": "code",
   "execution_count": 173,
   "metadata": {},
   "outputs": [],
   "source": [
    "from itertools import chain\n",
    "class Kfold_time(object):\n",
    "    \n",
    "    def __init__(self,**options):\n",
    "        \n",
    "        \n",
    "        self.target     = options.pop('target', None)\n",
    "        self.date_col   = options.pop('date_col', None)\n",
    "        self.date_init  = options.pop('date_init', None)\n",
    "        self.date_final = options.pop('date_final', None)\n",
    "\n",
    "        if options:\n",
    "            raise TypeError(\"Invalid parameters passed: %s\" % str(options))\n",
    "            \n",
    "        if ((self.target==None )| (self.date_col==None )| (self.date_init==None ) | (self.date_final==None )):\n",
    "            raise TypeError(\"Incomplete inputs\")\n",
    "    \n",
    "    def _train_test_split_time(self,X):\n",
    "        n_arrays = len(X)\n",
    "        if n_arrays == 0:\n",
    "            raise ValueError(\"At least one array required as input\")\n",
    "\n",
    "        for i in range(self.date_init,self.date_final):\n",
    "\n",
    "            train = X[X[self.date_col] < i]\n",
    "            val   = X[X[self.date_col] == i]\n",
    "\n",
    "            X_train, X_test = train.drop([self.target], axis=1), val.drop([self.target], axis=1)\n",
    "            y_train, y_test = train[self.target].values, val[self.target].values\n",
    "\n",
    "            yield X_train, X_test, y_train, y_test\n",
    "\n",
    "    \n",
    "    def split(self,X):\n",
    "        cv_t = self._train_test_split_time(X)\n",
    "        return chain(cv_t)"
   ]
  },
  {
   "cell_type": "markdown",
   "metadata": {},
   "source": [
    "Cross-Validation for Time Series\n",
    "Cross-validation for time series is different from machine-learning problems that time or sequence is not involved. In the case of the absence of time, we select a random subset of data as a validation set to estimate the accuracy of the measurement. In time series, we often predict a value in the future. Therefore, the validation data always has to occur after the training data. There are two schemas sliding-window and Forward Chaining validation methods, that can be used for the time series CV"
   ]
  },
  {
   "cell_type": "markdown",
   "metadata": {},
   "source": [
    "Forward-Chaining Cross-Validation:\n",
    "The other problem when we are working on time series, we have to deal with its CV for time series. We chose forward-chaining for the model validation. To avoid having a very good model in a small number of weeks, we will use every week from 40 to 52, repeating the process for one at a time, and compute the score. Therefore, the k-fold code at this schema can be found at C. 3."
   ]
  },
  {
   "cell_type": "markdown",
   "metadata": {},
   "source": [
    "# Metric: RMSLE"
   ]
  },
  {
   "cell_type": "code",
   "execution_count": 174,
   "metadata": {},
   "outputs": [],
   "source": [
    "def rmsle(ytrue, ypred):\n",
    "    return np.sqrt(mean_squared_log_error(ytrue, ypred))"
   ]
  },
  {
   "cell_type": "markdown",
   "metadata": {},
   "source": [
    "# Baseline Estimator"
   ]
  },
  {
   "cell_type": "code",
   "execution_count": 175,
   "metadata": {},
   "outputs": [],
   "source": [
    "class BaseEstimator(base.BaseEstimator, base.RegressorMixin):\n",
    "    def __init__(self, predCol):\n",
    "        \"\"\"\n",
    "            As a base model we assume the number of sales last week and this week are the same\n",
    "            Input: \n",
    "                    predCol: l-week ago sales\n",
    "        \"\"\"\n",
    "        self.predCol = predCol\n",
    "\n",
    "        \n",
    "    def fit(self, X, y):\n",
    "        return self\n",
    "\n",
    "\n",
    "    def predict(self, X):\n",
    "        prediction = X[self.predCol].values\n",
    "        return prediction\n",
    "\n",
    "    def score(self, X, y,scoring):\n",
    "        \n",
    "        prediction = self.predict(X)\n",
    "    \n",
    "        error =scoring(y, prediction)# np.sqrt(mean_squared_log_error(y, prediction))\n",
    "        return error"
   ]
  },
  {
   "cell_type": "markdown",
   "metadata": {},
   "source": [
    "# TIME SERIES REGRESSOR"
   ]
  },
  {
   "cell_type": "code",
   "execution_count": 176,
   "metadata": {},
   "outputs": [],
   "source": [
    "class TimeSeriesRegressor(base.BaseEstimator, base.RegressorMixin):\n",
    "    \n",
    "    def __init__(self,model,cv,scoring,verbosity=True):\n",
    "        self.model = model\n",
    "        self.cv = cv\n",
    "        self.verbosity = verbosity\n",
    "        self.scoring = scoring \n",
    "        \n",
    "            \n",
    "    def fit(self,X,y=None):\n",
    "        return self\n",
    "        \n",
    "    \n",
    "    def predict(self,X=None):\n",
    "        \n",
    "        pred = {}\n",
    "        for indx,fold in enumerate(self.cv.split(X)):\n",
    "\n",
    "            X_train, X_test, y_train, y_test = fold    \n",
    "            self.model.fit(X_train, y_train)\n",
    "            pred[str(indx)+'_fold'] = self.model.predict(X_test)\n",
    "            \n",
    "        prediction = pd.DataFrame(pred)\n",
    "    \n",
    "        return prediction\n",
    "    \n",
    "\n",
    "    def score(self,X,y=None):\n",
    "\n",
    "\n",
    "        errors = []\n",
    "        for indx,fold in enumerate(self.cv.split(X)):\n",
    "\n",
    "            X_train, X_test, y_train, y_test = fold    \n",
    "            self.model.fit(X_train, y_train)\n",
    "            prediction = self.model.predict(X_test)\n",
    "            error = self.scoring(y_test, prediction)\n",
    "            errors.append(error)\n",
    "\n",
    "            if self.verbosity:\n",
    "                print(\"Fold: {}, Error: {:.4f}\".format(indx,error))\n",
    "\n",
    "        if self.verbosity:\n",
    "            print('Total Error {:.4f}'.format(np.mean(errors)))\n",
    "\n",
    "        return errors"
   ]
  },
  {
   "cell_type": "code",
   "execution_count": 177,
   "metadata": {},
   "outputs": [],
   "source": [
    "class TimeSeriesRegressorLog(base.BaseEstimator, base.RegressorMixin):\n",
    "    \n",
    "    def __init__(self,model,cv,scoring,verbosity=True):\n",
    "        self.model = model\n",
    "        self.cv = cv\n",
    "        self.verbosity = verbosity\n",
    "        self.scoring = scoring\n",
    "        \n",
    "            \n",
    "    def fit(self,X,y=None):\n",
    "        return self\n",
    "        \n",
    "    \n",
    "    def predict(self,X=None):\n",
    "        \n",
    "        pred = {}\n",
    "        for indx,fold in enumerate(self.cv.split(X)):\n",
    "\n",
    "            X_train, X_test, y_train, y_test = fold    \n",
    "            self.model.fit(X_train, y_train)\n",
    "            pred[str(indx)+'_fold'] = self.model.predict(X_test)\n",
    "            \n",
    "        prediction = pd.DataFrame(pred)\n",
    "    \n",
    "        return prediction\n",
    "\n",
    "    \n",
    "    def score(self,X,y=None):#**options):\n",
    "\n",
    "\n",
    "        errors = []\n",
    "        for indx,fold in enumerate(self.cv.split(X)):\n",
    "\n",
    "            X_train, X_test, y_train, y_test = fold    \n",
    "            self.model.fit(X_train, np.log1p(y_train))\n",
    "            prediction = np.expm1(self.model.predict(X_test))\n",
    "            error = self.scoring(y_test, prediction)\n",
    "            errors.append(error)\n",
    "\n",
    "            if self.verbosity:\n",
    "                print(\"Fold: {}, Error: {:.4f}\".format(indx,error))\n",
    "\n",
    "        if self.verbosity:\n",
    "                print('Total Error {:.4f}'.format(np.mean(errors)))\n",
    "\n",
    "        return errors"
   ]
  },
  {
   "cell_type": "markdown",
   "metadata": {},
   "source": [
    "# TUNING"
   ]
  },
  {
   "cell_type": "code",
   "execution_count": 178,
   "metadata": {},
   "outputs": [],
   "source": [
    "def getDataFramePipeline(i):\n",
    "    steps = [(str(i)+'_step',ToSupervised('Sales','Product_Code',i))]\n",
    "    for j in range(1,i+1):\n",
    "        if i==j:\n",
    "\n",
    "            pp = (str(j)+'_step_diff',\n",
    "                  ToSupervisedDiff(str(i)+'_Week_Ago_Sales','Product_Code',1,dropna=True))\n",
    "            steps.append(pp)\n",
    "        else:\n",
    "\n",
    "            pp = (str(j)+'_step_diff',\n",
    "                  ToSupervisedDiff(str(i)+'_Week_Ago_Sales','Product_Code',1))\n",
    "            steps.append(pp)\n",
    "            \n",
    "    return steps"
   ]
  },
  {
   "cell_type": "code",
   "execution_count": 179,
   "metadata": {},
   "outputs": [],
   "source": [
    "\n",
    "from tqdm import tqdm\n",
    "def stepsTune(X,model,num_steps,init=1):\n",
    "    scores = []\n",
    "    for i in tqdm(range(init,num_steps+1)):\n",
    "        steps = []\n",
    "        steps.extend(getDataFramePipeline(i))\n",
    "        steps.append(('predic_1',model))\n",
    "        super_ = Pipeline(steps).fit(X)\n",
    "        score_ = np.mean(super_.score(X))\n",
    "        scores.append((i,score_))\n",
    "        \n",
    "    return scores"
   ]
  },
  {
   "cell_type": "markdown",
   "metadata": {},
   "source": [
    "# HYPERPARAMETER TUNING"
   ]
  },
  {
   "cell_type": "code",
   "execution_count": 180,
   "metadata": {},
   "outputs": [],
   "source": [
    "from collections.abc import Mapping, Sequence, Iterable\n",
    "from itertools import product\n",
    "from functools import partial, reduce\n",
    "import operator\n",
    "\n",
    "class TimeGridBasic(base.BaseEstimator, base.RegressorMixin):\n",
    "    \n",
    "    def __init__(self,param_grid):\n",
    "        \n",
    "    \n",
    "        if not isinstance(param_grid, (Mapping, Iterable)):\n",
    "                raise TypeError('Parameter grid is not a dict or '\n",
    "                                'a list ({!r})'.format(param_grid))\n",
    "\n",
    "        if isinstance(param_grid, Mapping):\n",
    "                # wrap dictionary in a singleton list to support either dict\n",
    "                # or list of dicts\n",
    "                param_grid = [param_grid]\n",
    "\n",
    "\n",
    "        if isinstance(param_grid, Mapping):\n",
    "                # wrap dictionary in a singleton list to support either dict\n",
    "                # or list of dicts\n",
    "                param_grid = [param_grid]\n",
    "\n",
    "        # check if all entries are dictionaries of lists\n",
    "        for grid in param_grid:\n",
    "            if not isinstance(grid, dict):\n",
    "                raise TypeError('Parameter grid is not a '\n",
    "                                'dict ({!r})'.format(grid))\n",
    "            for key in grid:\n",
    "                if not isinstance(grid[key], Iterable):\n",
    "                    raise TypeError('Parameter grid value is not iterable '\n",
    "                                    '(key={!r}, value={!r})'\n",
    "                                    .format(key, grid[key]))\n",
    "\n",
    "\n",
    "        self.param_grid = param_grid\n",
    "                \n",
    "    def __iter__(self):\n",
    "        \"\"\"Iterate over the points in the grid.\n",
    "        Returns\n",
    "        -------\n",
    "        params : iterator over dict of string to any\n",
    "            Yields dictionaries mapping each estimator parameter to one of its\n",
    "            allowed values.\n",
    "        \"\"\"\n",
    "        for p in self.param_grid:\n",
    "            # Always sort the keys of a dictionary, for reproducibility\n",
    "            items = sorted(p.items())\n",
    "            if not items:\n",
    "                yield {}\n",
    "            else:\n",
    "                keys, values = zip(*items)\n",
    "                for v in product(*values):\n",
    "                    params = dict(zip(keys, v))\n",
    "                    yield params"
   ]
  },
  {
   "cell_type": "code",
   "execution_count": 181,
   "metadata": {},
   "outputs": [],
   "source": [
    "class TimeSeriesGridSearch(TimeGridBasic,base.BaseEstimator, base.RegressorMixin):\n",
    "    \n",
    "    \n",
    "    def __init__(self,**options):\n",
    "        \n",
    "        self.model      = options.pop('model', None)\n",
    "        self.cv         = options.pop('cv', None)\n",
    "        self.verbosity  = options.pop('verbosity', False)\n",
    "        self.scoring    = options.pop('scoring', None)\n",
    "        param_grid      = options.pop('param_grid', None)\n",
    "        self.param_grid = TimeGridBasic(param_grid)\n",
    "        \n",
    "        if options:\n",
    "            raise TypeError(\"Invalid parameters passed: %s\" % str(options))\n",
    "\n",
    "        if ((self.model==None )| (self.cv==None)):\n",
    "            raise TypeError(\"Incomplete inputs\")\n",
    "            \n",
    "            \n",
    "    def fit(self,X,y=None):\n",
    "        self.X = X\n",
    "        return self\n",
    "\n",
    "\n",
    "    def _get_score(self,param):\n",
    "\n",
    "        errors = []\n",
    "        for indx,fold in enumerate(self.cv.split(self.X)):\n",
    "\n",
    "            X_train, X_test, y_train, y_test = fold    \n",
    "            self.model.set_params(**param).fit(X_train, np.log1p(y_train))\n",
    "            prediction = np.expm1(self.model.predict(X_test))\n",
    "            error = self.scoring(y_test, prediction)\n",
    "            errors.append(error)\n",
    "\n",
    "            if self.verbosity:\n",
    "                print(\"Fold: {}, Error: {:.4f}\".format(indx,error))\n",
    "\n",
    "        if self.verbosity:\n",
    "                print('Total Error {:.4f}'.format(np.mean(errors)))\n",
    "                \n",
    "        \n",
    "        return errors\n",
    "\n",
    "    def score(self):\n",
    "\n",
    "        errors=[]\n",
    "        get_param = []\n",
    "        for param in self.param_grid:\n",
    "            \n",
    "            if self.verbosity:\n",
    "                print(param)\n",
    "                \n",
    "            errors.append(np.mean(self._get_score(param)))\n",
    "            get_param.append(param)\n",
    "\n",
    "        self.sorted_errors,self.sorted_params = (list(t) for t in zip(*sorted(zip(errors,get_param))))\n",
    "        \n",
    "        return self.sorted_errors,self.sorted_params\n",
    "    \n",
    "    \n",
    "    def best_estimator(self,verbosity=False):\n",
    "\n",
    "        if verbosity:\n",
    "            print('error: {:.4f} \\n'.format(self.sorted_errors[0]))\n",
    "            print('Best params:')\n",
    "            print(self.sorted_params[0])\n",
    "\n",
    "        return self.sorted_params[0]"
   ]
  },
  {
   "cell_type": "code",
   "execution_count": 183,
   "metadata": {},
   "outputs": [],
   "source": [
    "steps = [('1_step',\n",
    "          ToSupervised('Sales','Product_Code',1)),\n",
    "         ('1_step_diff',\n",
    "          ToSupervisedDiff('1_Week_Ago_Sales',\n",
    "          'Product_Code',1,dropna=True))]\n",
    "sales_history = Pipeline(steps).fit_transform(products_x)"
   ]
  },
  {
   "cell_type": "code",
   "execution_count": 185,
   "metadata": {},
   "outputs": [
    {
     "data": {
      "text/plain": [
       "Product_Code                        0\n",
       "Week                                0\n",
       "Sales                               0\n",
       "1_Week_Ago_Sales                    0\n",
       "1_Week_Ago_Diff_1_Week_Ago_Sales    0\n",
       "dtype: int64"
      ]
     },
     "execution_count": 185,
     "metadata": {},
     "output_type": "execute_result"
    }
   ],
   "source": [
    "sales_history.isnull().sum()"
   ]
  },
  {
   "cell_type": "code",
   "execution_count": 186,
   "metadata": {},
   "outputs": [],
   "source": [
    "sales_history['Week']=sales_history['Week'].astype(int)\n",
    "sales_history['Product_Code']=sales_history['Product_Code'].astype(int)\n",
    "sales_history['1_Week_Ago_Sales']=sales_history['1_Week_Ago_Sales'].astype(int)\n",
    "sales_history['1_Week_Ago_Diff_1_Week_Ago_Sales']=sales_history['1_Week_Ago_Diff_1_Week_Ago_Sales'].astype(int)"
   ]
  },
  {
   "cell_type": "code",
   "execution_count": 188,
   "metadata": {},
   "outputs": [
    {
     "data": {
      "text/html": [
       "<div>\n",
       "<style scoped>\n",
       "    .dataframe tbody tr th:only-of-type {\n",
       "        vertical-align: middle;\n",
       "    }\n",
       "\n",
       "    .dataframe tbody tr th {\n",
       "        vertical-align: top;\n",
       "    }\n",
       "\n",
       "    .dataframe thead th {\n",
       "        text-align: right;\n",
       "    }\n",
       "</style>\n",
       "<table border=\"1\" class=\"dataframe\">\n",
       "  <thead>\n",
       "    <tr style=\"text-align: right;\">\n",
       "      <th></th>\n",
       "      <th>Product_Code</th>\n",
       "      <th>Week</th>\n",
       "      <th>Sales</th>\n",
       "      <th>1_Week_Ago_Sales</th>\n",
       "      <th>1_Week_Ago_Diff_1_Week_Ago_Sales</th>\n",
       "    </tr>\n",
       "  </thead>\n",
       "  <tbody>\n",
       "    <tr>\n",
       "      <td>0</td>\n",
       "      <td>1</td>\n",
       "      <td>2</td>\n",
       "      <td>10</td>\n",
       "      <td>12</td>\n",
       "      <td>1</td>\n",
       "    </tr>\n",
       "    <tr>\n",
       "      <td>1</td>\n",
       "      <td>2</td>\n",
       "      <td>2</td>\n",
       "      <td>3</td>\n",
       "      <td>6</td>\n",
       "      <td>-1</td>\n",
       "    </tr>\n",
       "    <tr>\n",
       "      <td>2</td>\n",
       "      <td>3</td>\n",
       "      <td>2</td>\n",
       "      <td>8</td>\n",
       "      <td>11</td>\n",
       "      <td>4</td>\n",
       "    </tr>\n",
       "    <tr>\n",
       "      <td>3</td>\n",
       "      <td>4</td>\n",
       "      <td>2</td>\n",
       "      <td>13</td>\n",
       "      <td>8</td>\n",
       "      <td>-4</td>\n",
       "    </tr>\n",
       "    <tr>\n",
       "      <td>4</td>\n",
       "      <td>5</td>\n",
       "      <td>2</td>\n",
       "      <td>13</td>\n",
       "      <td>5</td>\n",
       "      <td>-3</td>\n",
       "    </tr>\n",
       "  </tbody>\n",
       "</table>\n",
       "</div>"
      ],
      "text/plain": [
       "   Product_Code  Week  Sales  1_Week_Ago_Sales  \\\n",
       "0             1     2     10                12   \n",
       "1             2     2      3                 6   \n",
       "2             3     2      8                11   \n",
       "3             4     2     13                 8   \n",
       "4             5     2     13                 5   \n",
       "\n",
       "   1_Week_Ago_Diff_1_Week_Ago_Sales  \n",
       "0                                 1  \n",
       "1                                -1  \n",
       "2                                 4  \n",
       "3                                -4  \n",
       "4                                -3  "
      ]
     },
     "execution_count": 188,
     "metadata": {},
     "output_type": "execute_result"
    }
   ],
   "source": [
    "sales_history.head()"
   ]
  },
  {
   "cell_type": "code",
   "execution_count": 189,
   "metadata": {},
   "outputs": [
    {
     "data": {
      "text/plain": [
       "array([  1,  -1,   4,  -4,  -3,   0,  -2,  -5,  -8,  26,  -9,   5,  -7,\n",
       "         6,   2, -10,  10,   3, -14, -15,  15, -11,  19,  22, -12,   8,\n",
       "        -6,  17,  11,   7, -13,  25,  34,  18,   9,  12,  16,  13,  14,\n",
       "       -19, -18,  20, -22, -16,  31,  24,  21, -20, -17, -21, -32,  23,\n",
       "       -23, -24,  27, -26, -27, -25,  28, -33, -34, -30, -29,  29, -28],\n",
       "      dtype=int64)"
      ]
     },
     "execution_count": 189,
     "metadata": {},
     "output_type": "execute_result"
    }
   ],
   "source": [
    "sales_history['1_Week_Ago_Diff_1_Week_Ago_Sales'].unique()"
   ]
  },
  {
   "cell_type": "code",
   "execution_count": 191,
   "metadata": {},
   "outputs": [],
   "source": [
    "kf = Kfold_time(target='Sales',date_col = 'Week', \n",
    "                   date_init=40, date_final=52)"
   ]
  },
  {
   "cell_type": "code",
   "execution_count": 192,
   "metadata": {},
   "outputs": [
    {
     "data": {
      "text/plain": [
       "Product_Code                        0\n",
       "Week                                0\n",
       "Sales                               0\n",
       "1_Week_Ago_Sales                    0\n",
       "1_Week_Ago_Diff_1_Week_Ago_Sales    0\n",
       "dtype: int64"
      ]
     },
     "execution_count": 192,
     "metadata": {},
     "output_type": "execute_result"
    }
   ],
   "source": [
    "sales_history.isnull().sum()"
   ]
  },
  {
   "cell_type": "markdown",
   "metadata": {},
   "source": [
    "Since the problem is Regression, there are several well-known metrics to evaluate the model, such as Mean Square Error (MSE), Mean Absolute Error (MAE), Root Mean Squared Error (RMSE), Root Mean Squared Log Error (RMSLE), R-squared, so forth. Each of these metrics has its own use case and they punish the error differently while there are some similarities among them as well. In this post, RMSLE is chosen to evaluate the model."
   ]
  },
  {
   "cell_type": "markdown",
   "metadata": {},
   "source": [
    "Baseline:\n",
    "Usually, when we build a model, we might come up with a very simple assumption that we expect using ML can improve it. Here, let’s assume that the number of each product is sold at the current week, it will be the same for the next week. It means that if product-1 is sold 10 times at week-1, its sales number also will be the same for week-2. It generally is not a bad assumption. So, let’s consider this assumption as our baseline model.\n",
    "The baseline model is coded at C. 5, let’s see how the baseline model works"
   ]
  },
  {
   "cell_type": "code",
   "execution_count": 193,
   "metadata": {},
   "outputs": [
    {
     "name": "stdout",
     "output_type": "stream",
     "text": [
      "Fold: 0, Error: 0.520\n",
      "Fold: 1, Error: 0.517\n",
      "Fold: 2, Error: 0.510\n",
      "Fold: 3, Error: 0.508\n",
      "Fold: 4, Error: 0.534\n",
      "Fold: 5, Error: 0.523\n",
      "Fold: 6, Error: 0.500\n",
      "Fold: 7, Error: 0.491\n",
      "Fold: 8, Error: 0.506\n",
      "Fold: 9, Error: 0.505\n",
      "Fold: 10, Error: 0.522\n",
      "Fold: 11, Error: 0.552\n",
      "Total Error 0.516\n"
     ]
    }
   ],
   "source": [
    "#baseline model\n",
    "base_model = BaseEstimator('1_Week_Ago_Sales')\n",
    "errors = []\n",
    "for indx,fold in enumerate(kf.split(sales_history)):\n",
    "    X_train, X_test, y_train, y_test = fold\n",
    "    error = base_model.score(X_test,y_test,rmsle)\n",
    "    errors.append(error)\n",
    "    print(\"Fold: {}, Error: {:.3f}\".format(indx,error))\n",
    "    \n",
    "print('Total Error {:.3f}'.format(np.mean(errors)))"
   ]
  },
  {
   "cell_type": "markdown",
   "metadata": {},
   "source": [
    "Here, fold 0 to 11 indicate week = 40 to week = 52. The mean of RMSLE for the baseline model over these 12 weeks is 0.51. This can be considered as a big error which might originate from the huge number of items were sold very little amounts as shown"
   ]
  },
  {
   "cell_type": "markdown",
   "metadata": {},
   "source": [
    "Machine Learning Models:\n",
    "Now, we will apply the ML to improve the baseline prediction. Let’s define a Time Series Regressor Class, C. 5, which work with our time series cross-validation. This class gets the cv and model and it returns, the model prediction and its score. There is a wide range of ML algorithms that can be used as an estimator. Here, we select a Random Forest. Simply, RF can be considered as a combination of bagging and randomly selecting columns of features on top of decision trees. Therefore, it reduces the variance of the prediction of a decision tree model. So, it usually has better performance than a single tree and has weaker performance than ensemble methods which are designed to reduce the bias error of the decision tree model"
   ]
  },
  {
   "cell_type": "markdown",
   "metadata": {},
   "source": [
    "# First Model - One Step\n",
    "### RANDOM FOREST"
   ]
  },
  {
   "cell_type": "code",
   "execution_count": 195,
   "metadata": {},
   "outputs": [],
   "source": [
    "\n",
    "model = RandomForestRegressor(n_estimators=1000, n_jobs=-1, random_state=0)\n",
    "steps_1 = [('1_step',ToSupervised('Sales','Product_Code',1)),\n",
    "         ('1_step_diff',ToSupervisedDiff('1_Week_Ago_Sales','Product_Code',1,dropna=True)),\n",
    "         ('predic_1',TimeSeriesRegressor(model=model,cv=kf,scoring=rmsle))]\n",
    "sales_history_p = Pipeline(steps_1).fit(products_x)"
   ]
  },
  {
   "cell_type": "code",
   "execution_count": 196,
   "metadata": {},
   "outputs": [
    {
     "name": "stdout",
     "output_type": "stream",
     "text": [
      "Fold: 0, Error: 0.4624\n",
      "Fold: 1, Error: 0.4596\n",
      "Fold: 2, Error: 0.4617\n",
      "Fold: 3, Error: 0.4666\n",
      "Fold: 4, Error: 0.4712\n",
      "Fold: 5, Error: 0.4310\n",
      "Fold: 6, Error: 0.4718\n",
      "Fold: 7, Error: 0.4494\n",
      "Fold: 8, Error: 0.4608\n",
      "Fold: 9, Error: 0.4470\n",
      "Fold: 10, Error: 0.4746\n",
      "Fold: 11, Error: 0.4865\n",
      "Total Error 0.4619\n"
     ]
    }
   ],
   "source": [
    "Model_1_Error = sales_history_p.score(products_x)"
   ]
  },
  {
   "cell_type": "markdown",
   "metadata": {},
   "source": [
    "It seems that the model works and the error decrease. Let’s add more lags and evaluate the model again. Since we built the pipeline, add more lags would be very simple."
   ]
  },
  {
   "cell_type": "markdown",
   "metadata": {},
   "source": [
    "# SECOND MODEL- FOUR STEP"
   ]
  },
  {
   "cell_type": "code",
   "execution_count": 198,
   "metadata": {},
   "outputs": [],
   "source": [
    "steps_3 = [('1_step',ToSupervised('Sales','Product_Code',3)),\n",
    "         ('1_step_diff',ToSupervisedDiff('1_Week_Ago_Sales','Product_Code',1)),\n",
    "         ('2_step_diff',ToSupervisedDiff('2_Week_Ago_Sales','Product_Code',1)),\n",
    "         ('3_step_diff',ToSupervisedDiff('3_Week_Ago_Sales','Product_Code',1,dropna=True)),\n",
    "         ('predic_3',TimeSeriesRegressor(model=model,cv=kf,scoring=rmsle))]\n",
    "sales_history_3p = Pipeline(steps_3).fit(products_x)"
   ]
  },
  {
   "cell_type": "code",
   "execution_count": 199,
   "metadata": {},
   "outputs": [
    {
     "name": "stdout",
     "output_type": "stream",
     "text": [
      "Fold: 0, Error: 0.4312\n",
      "Fold: 1, Error: 0.4385\n",
      "Fold: 2, Error: 0.4274\n",
      "Fold: 3, Error: 0.4194\n",
      "Fold: 4, Error: 0.4479\n",
      "Fold: 5, Error: 0.4070\n",
      "Fold: 6, Error: 0.4395\n",
      "Fold: 7, Error: 0.4333\n",
      "Fold: 8, Error: 0.4387\n",
      "Fold: 9, Error: 0.4305\n",
      "Fold: 10, Error: 0.4591\n",
      "Fold: 11, Error: 0.4534\n",
      "Total Error 0.4355\n"
     ]
    }
   ],
   "source": [
    "Model_3_Error = sales_history_3p.score(products_x)"
   ]
  },
  {
   "cell_type": "markdown",
   "metadata": {},
   "source": [
    "It seems that the error of the prediction reduces again and the model learns more. We can continue to add lags and see how the performance of the model changes; however we will postpone this process until we use LGBM as an estimator."
   ]
  },
  {
   "cell_type": "markdown",
   "metadata": {},
   "source": [
    "Statistical Transformations:\n",
    "The distribution of sales, Fig. 7 shows that the data skews toward the low sales number or to the left. Usually, Log transforms are useful when applied to skewed distributions as they tend to expand the values which fall in the range of lower magnitudes and tend to compress or reduce the values which fall in the range of higher magnitudes. The interpretability of the models changes when we do statistical transformations since the coefficients no more tell us about the original features but the transformed features. Therefore, while we apply np.log1p on the sales number to transform its distribution to become closer to the normal distribution, we also apply np.expm1 on the result of the prediction, see C. 6, TimeSeriesRegressorLog. Now, we repeat the calculation with the mentioned transformation"
   ]
  },
  {
   "cell_type": "markdown",
   "metadata": {},
   "source": [
    "# CHANGE THE TARGET DISTRIBUTION"
   ]
  },
  {
   "cell_type": "code",
   "execution_count": 200,
   "metadata": {},
   "outputs": [],
   "source": [
    "steps_3_log = [('1_step',ToSupervised('Sales','Product_Code',3)),\n",
    "         ('1_step_diff',ToSupervisedDiff('1_Week_Ago_Sales','Product_Code',1)),\n",
    "         ('2_step_diff',ToSupervisedDiff('2_Week_Ago_Sales','Product_Code',1)),\n",
    "         ('3_step_diff',ToSupervisedDiff('3_Week_Ago_Sales','Product_Code',1,dropna=True)),\n",
    "         ('predic_3',TimeSeriesRegressorLog(model=model,cv=kf,scoring=rmsle))]\n",
    "sales_history_3p_log = Pipeline(steps_3_log).fit(products_x)"
   ]
  },
  {
   "cell_type": "code",
   "execution_count": 201,
   "metadata": {},
   "outputs": [
    {
     "name": "stdout",
     "output_type": "stream",
     "text": [
      "Fold: 0, Error: 0.4168\n",
      "Fold: 1, Error: 0.4221\n",
      "Fold: 2, Error: 0.4125\n",
      "Fold: 3, Error: 0.4035\n",
      "Fold: 4, Error: 0.4332\n",
      "Fold: 5, Error: 0.3977\n",
      "Fold: 6, Error: 0.4263\n",
      "Fold: 7, Error: 0.4122\n",
      "Fold: 8, Error: 0.4301\n",
      "Fold: 9, Error: 0.4375\n",
      "Fold: 10, Error: 0.4462\n",
      "Fold: 11, Error: 0.4727\n",
      "Total Error 0.4259\n"
     ]
    }
   ],
   "source": [
    "Model_3_Log_Error = sales_history_3p_log.score(products_x)"
   ]
  },
  {
   "cell_type": "markdown",
   "metadata": {},
   "source": [
    "This shows that the performance of the model improves and the error reduces again."
   ]
  },
  {
   "cell_type": "markdown",
   "metadata": {},
   "source": [
    "# LIGHTGBM MODEL"
   ]
  },
  {
   "cell_type": "code",
   "execution_count": 204,
   "metadata": {},
   "outputs": [],
   "source": [
    "products_x['Week']=sales_history['Week'].astype(int)\n",
    "products_x['Product_Code']=sales_history['Product_Code'].astype(int)\n",
    "sales_history['1_Week_Ago_Sales']=sales_history['1_Week_Ago_Sales'].astype(int)\n",
    "sales_history['1_Week_Ago_Diff_1_Week_Ago_Sales']=sales_history['1_Week_Ago_Diff_1_Week_Ago_Sales'].astype(int)\n"
   ]
  },
  {
   "cell_type": "code",
   "execution_count": 208,
   "metadata": {},
   "outputs": [
    {
     "data": {
      "text/plain": [
       "Product_Code    1622\n",
       "Week            1622\n",
       "Sales              0\n",
       "dtype: int64"
      ]
     },
     "execution_count": 208,
     "metadata": {},
     "output_type": "execute_result"
    }
   ],
   "source": [
    "products_x.isnull().sum()"
   ]
  },
  {
   "cell_type": "code",
   "execution_count": 213,
   "metadata": {},
   "outputs": [],
   "source": [
    "def rmsle(ytrue, ypred):\n",
    "    sum=0.0\n",
    "    for x in range(len(ypred)):\n",
    "        if ypred[x]<0 or ytrue[x]<0: #check for negative values\n",
    "            continue\n",
    "        p = np.log(ypred[x]+1)\n",
    "        r = np.log(ytrue[x]+1)\n",
    "        sum = sum + (p - r)**2\n",
    "    return (sum/len(ypred))**0.5\n"
   ]
  },
  {
   "cell_type": "markdown",
   "metadata": {},
   "source": [
    "Now, it is time to use a stronger ML estimator to improve forecasting. We chose LightGBM as a new estimator. So let’s repeat the calculation"
   ]
  },
  {
   "cell_type": "code",
   "execution_count": 214,
   "metadata": {},
   "outputs": [],
   "source": [
    "model_lgb = LGBMRegressor(n_estimators=1000, learning_rate=0.01)\n",
    "steps_3_log_lgbm = [('1_step',ToSupervised('Sales','Product_Code',3)),\n",
    "         ('1_step_diff',ToSupervisedDiff('1_Week_Ago_Sales','Product_Code',1)),\n",
    "         ('2_step_diff',ToSupervisedDiff('2_Week_Ago_Sales','Product_Code',1)),\n",
    "         ('3_step_diff',ToSupervisedDiff('3_Week_Ago_Sales','Product_Code',1,dropna=True)),\n",
    "         ('predic_3',TimeSeriesRegressorLog(model=model_lgb ,cv=kf,scoring=rmsle))]\n",
    "sales_historylog_lgbm = Pipeline(steps_3_log_lgbm).fit(products_x)"
   ]
  },
  {
   "cell_type": "code",
   "execution_count": 215,
   "metadata": {},
   "outputs": [
    {
     "name": "stdout",
     "output_type": "stream",
     "text": [
      "Fold: 0, Error: 0.3936\n",
      "Fold: 1, Error: 0.3944\n",
      "Fold: 2, Error: 0.4081\n",
      "Fold: 3, Error: 0.3980\n",
      "Fold: 4, Error: 0.3953\n",
      "Fold: 5, Error: 0.3949\n",
      "Fold: 6, Error: 0.4202\n",
      "Fold: 7, Error: 0.3768\n",
      "Fold: 8, Error: 0.4039\n",
      "Fold: 9, Error: 0.3868\n",
      "Fold: 10, Error: 0.3984\n",
      "Fold: 11, Error: 0.4075\n",
      "Total Error 0.3981\n"
     ]
    }
   ],
   "source": [
    "Model_3_Log_Error = sales_historylog_lgbm.score(products_x)"
   ]
  },
  {
   "cell_type": "markdown",
   "metadata": {},
   "source": [
    "Again, we successfully improve the prediction"
   ]
  },
  {
   "cell_type": "markdown",
   "metadata": {},
   "source": [
    "# Tuning Number of Steps"
   ]
  },
  {
   "cell_type": "markdown",
   "metadata": {},
   "source": [
    "At this section, we are going to tune the number of steps (lags/diffs). I intentionally postpone tuning the steps this section after using LGBM as the regressor because it is faster than RF. Fig. 8 clearly shows that by adding more steps to the model the error reduces; however, as we expect, it is seen that after passing a threshold around steps = 14, adding further steps will not reduce the error significantly. You might be interested in defining an error threshold for stopping this process. Steps= 20 is chosen for the rest of the calculation. Please check code C 7. A and B for tuning."
   ]
  },
  {
   "cell_type": "code",
   "execution_count": 216,
   "metadata": {},
   "outputs": [
    {
     "name": "stderr",
     "output_type": "stream",
     "text": [
      "\n",
      "  0%|                                                                                           | 0/20 [00:00<?, ?it/s]\n",
      "  5%|████▏                                                                              | 1/20 [00:09<03:02,  9.63s/it]\n",
      " 10%|████████▎                                                                          | 2/20 [00:18<02:51,  9.52s/it]\n",
      " 15%|████████████▍                                                                      | 3/20 [00:28<02:44,  9.66s/it]\n",
      " 20%|████████████████▌                                                                  | 4/20 [00:39<02:37,  9.85s/it]\n",
      " 25%|████████████████████▊                                                              | 5/20 [00:51<02:36, 10.46s/it]\n",
      " 30%|████████████████████████▉                                                          | 6/20 [01:03<02:36, 11.15s/it]\n",
      " 35%|█████████████████████████████                                                      | 7/20 [01:15<02:28, 11.40s/it]\n",
      " 40%|█████████████████████████████████▏                                                 | 8/20 [01:28<02:22, 11.89s/it]\n",
      " 45%|█████████████████████████████████████▎                                             | 9/20 [01:42<02:15, 12.33s/it]\n",
      " 50%|█████████████████████████████████████████                                         | 10/20 [01:56<02:07, 12.80s/it]\n",
      " 55%|█████████████████████████████████████████████                                     | 11/20 [02:10<01:58, 13.15s/it]\n",
      " 60%|█████████████████████████████████████████████████▏                                | 12/20 [02:24<01:48, 13.59s/it]\n",
      " 65%|█████████████████████████████████████████████████████▎                            | 13/20 [02:39<01:38, 14.07s/it]\n",
      " 70%|█████████████████████████████████████████████████████████▍                        | 14/20 [02:54<01:26, 14.37s/it]\n",
      " 75%|█████████████████████████████████████████████████████████████▌                    | 15/20 [03:09<01:12, 14.54s/it]\n",
      " 80%|█████████████████████████████████████████████████████████████████▌                | 16/20 [03:25<00:59, 14.88s/it]\n",
      " 85%|█████████████████████████████████████████████████████████████████████▋            | 17/20 [03:41<00:45, 15.25s/it]\n",
      " 90%|█████████████████████████████████████████████████████████████████████████▊        | 18/20 [03:58<00:31, 15.60s/it]\n",
      " 95%|█████████████████████████████████████████████████████████████████████████████▉    | 19/20 [04:14<00:15, 15.85s/it]\n",
      "100%|██████████████████████████████████████████████████████████████████████████████████| 20/20 [04:31<00:00, 13.56s/it]\n"
     ]
    }
   ],
   "source": [
    "model_lgbm = LGBMRegressor(n_estimators=1000, learning_rate=0.01)\n",
    "list_scores2 = stepsTune(products_x,\n",
    "                         TimeSeriesRegressorLog(model=model_lgbm,scoring=rmsle,\n",
    "                                           cv=kf,verbosity=False),20)"
   ]
  },
  {
   "cell_type": "markdown",
   "metadata": {},
   "source": [
    "# PLOT"
   ]
  },
  {
   "cell_type": "code",
   "execution_count": 217,
   "metadata": {},
   "outputs": [
    {
     "data": {
      "text/plain": [
       "Text(0.5, 1.0, 'Steps Tuning')"
      ]
     },
     "execution_count": 217,
     "metadata": {},
     "output_type": "execute_result"
    },
    {
     "data": {
      "image/png": "[encoded data removed]",
      "text/plain": [
       "<Figure size 720x432 with 1 Axes>"
      ]
     },
     "metadata": {},
     "output_type": "display_data"
    }
   ],
   "source": [
    "\n",
    "plt.figure(figsize=(10,6))\n",
    "x = [i[0] for i in list_scores2]\n",
    "y = [i[1] for i in list_scores2]\n",
    "plt.plot(x,y,color='green', marker='o', linestyle='dashed',\n",
    "        linewidth=2, markersize=12)\n",
    "plt.xticks(np.arange(0, 21, step=1))\n",
    "plt.xlabel('Steps',fontsize=14)\n",
    "plt.ylabel('RMSLE',fontsize=14)\n",
    "plt.title('Steps Tuning',fontsize=18)"
   ]
  },
  {
   "cell_type": "code",
   "execution_count": 218,
   "metadata": {},
   "outputs": [],
   "source": [
    "# Tune Hyperparameters\n",
    "params = {'n_estimators':[100,500,1000,1500,2000],\n",
    "         'learning_rate':[0.005,.01,.1]}\n",
    "\n",
    "steps_20 = getDataFramePipeline(20)\n",
    "super_20 = Pipeline(steps_20).fit_transform(df)\n",
    "\n",
    "\n",
    "model_lgbm2 = LGBMRegressor(random_state=0)\n",
    "tune_lgbm =TimeSeriesGridSearch(model = model_lgbm2, cv = kf,param_grid=params,verbosity=False,scoring=rmsle)"
   ]
  },
  {
   "cell_type": "code",
   "execution_count": 219,
   "metadata": {},
   "outputs": [],
   "source": [
    "\n",
    "tt = tune_lgbm.fit(super_20).score()"
   ]
  },
  {
   "cell_type": "markdown",
   "metadata": {},
   "source": [
    "# Prediction vs. Real Sales"
   ]
  },
  {
   "cell_type": "code",
   "execution_count": 220,
   "metadata": {},
   "outputs": [],
   "source": [
    "kf_51 = Kfold_time(target='Sales',date_col = 'Week',date_init=51,date_final=52)"
   ]
  },
  {
   "cell_type": "code",
   "execution_count": 221,
   "metadata": {},
   "outputs": [],
   "source": [
    "best_param = tune_lgbm.best_estimator()\n",
    "model_lgbmf = LGBMRegressor(**best_param,random_state=0)\n",
    "\n",
    "T_51 = TimeSeriesRegressorLog(model=model_lgbmf ,scoring=rmsle,\n",
    "                                             cv=kf_51,verbosity=False)\n",
    "T_51.fit(super_20)\n",
    "prediction_51 =T_51.predict(super_20)"
   ]
  },
  {
   "cell_type": "code",
   "execution_count": 222,
   "metadata": {},
   "outputs": [
    {
     "data": {
      "text/html": [
       "<div>\n",
       "<style scoped>\n",
       "    .dataframe tbody tr th:only-of-type {\n",
       "        vertical-align: middle;\n",
       "    }\n",
       "\n",
       "    .dataframe tbody tr th {\n",
       "        vertical-align: top;\n",
       "    }\n",
       "\n",
       "    .dataframe thead th {\n",
       "        text-align: right;\n",
       "    }\n",
       "</style>\n",
       "<table border=\"1\" class=\"dataframe\">\n",
       "  <thead>\n",
       "    <tr style=\"text-align: right;\">\n",
       "      <th></th>\n",
       "      <th>0_fold</th>\n",
       "    </tr>\n",
       "  </thead>\n",
       "  <tbody>\n",
       "    <tr>\n",
       "      <td>0</td>\n",
       "      <td>9.141751</td>\n",
       "    </tr>\n",
       "    <tr>\n",
       "      <td>1</td>\n",
       "      <td>4.073397</td>\n",
       "    </tr>\n",
       "    <tr>\n",
       "      <td>2</td>\n",
       "      <td>8.553865</td>\n",
       "    </tr>\n",
       "    <tr>\n",
       "      <td>3</td>\n",
       "      <td>8.546964</td>\n",
       "    </tr>\n",
       "    <tr>\n",
       "      <td>4</td>\n",
       "      <td>8.476343</td>\n",
       "    </tr>\n",
       "  </tbody>\n",
       "</table>\n",
       "</div>"
      ],
      "text/plain": [
       "     0_fold\n",
       "0  9.141751\n",
       "1  4.073397\n",
       "2  8.553865\n",
       "3  8.546964\n",
       "4  8.476343"
      ]
     },
     "execution_count": 222,
     "metadata": {},
     "output_type": "execute_result"
    }
   ],
   "source": [
    "prediction_51.head()"
   ]
  },
  {
   "cell_type": "code",
   "execution_count": 227,
   "metadata": {},
   "outputs": [
    {
     "data": {
      "image/png": "[encoded data removed]",
      "text/plain": [
       "<Figure size 576x576 with 1 Axes>"
      ]
     },
     "metadata": {},
     "output_type": "display_data"
    }
   ],
   "source": [
    "\n",
    "plt.figure(figsize=(8,8))\n",
    "plt.scatter(prediction_51['0_fold'],df[df['Week']==51]['Sales'])\n",
    "plt.xlabel('Sales',fontsize=14, color='green')\n",
    "plt.ylabel('Prediction',fontsize=14,color='blue')\n",
    "plt.xlim((-1,40))\n",
    "plt.ylim((-1,40))\n",
    "plt.title('Prediction vs Sales for Week 52',fontsize=18)\n",
    "plt.show()"
   ]
  },
  {
   "cell_type": "code",
   "execution_count": 228,
   "metadata": {},
   "outputs": [
    {
     "data": {
      "image/png": "[encoded data removed]",
      "text/plain": [
       "<Figure size 576x576 with 1 Axes>"
      ]
     },
     "metadata": {},
     "output_type": "display_data"
    }
   ],
   "source": [
    "models=['Baseline','First Model','Second Model','Log Trans','LGBM','Tuning']\n",
    "models_erros = [0.516,0.4619,0.4355,0.4259,0.4052,0.3868]\n",
    "plt.figure(figsize=(8,8))\n",
    "plt.plot(np.arange(6),models_erros,color='red', marker='o', linestyle='dashed',\n",
    "        linewidth=2, markersize=12)\n",
    "plt.xticks(np.arange(6), models)\n",
    "plt.xlabel('Models',fontsize=14)\n",
    "plt.ylabel('RMSLE',fontsize=14)\n",
    "plt.title('Models Score',fontsize=18)\n",
    "plt.show()"
   ]
  },
  {
   "cell_type": "code",
   "execution_count": 229,
   "metadata": {},
   "outputs": [
    {
     "name": "stdout",
     "output_type": "stream",
     "text": [
      "Error reduce:  25.038759689922486\n"
     ]
    }
   ],
   "source": [
    "print('Error reduce: ',(0.516 - 0.3868)/0.516*100)"
   ]
  }
 ],
 "metadata": {
  "kernelspec": {
   "display_name": "Python 3",
   "language": "python",
   "name": "python3"
  },
  "language_info": {
   "codemirror_mode": {
    "name": "ipython",
    "version": 3
   },
   "file_extension": ".py",
   "mimetype": "text/x-python",
   "name": "python",
   "nbconvert_exporter": "python",
   "pygments_lexer": "ipython3",
   "version": "3.7.4"
  }
 },
 "nbformat": 4,
 "nbformat_minor": 4
}
